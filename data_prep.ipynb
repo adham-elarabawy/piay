{
 "cells": [
  {
   "cell_type": "code",
   "execution_count": null,
   "metadata": {},
   "outputs": [],
   "source": [
    "from clip_retrieval.clip_client import ClipClient, Modality\n",
    "from tqdm.auto import tqdm\n",
    "import random\n",
    "from utils import image_grid, download_image\n",
    "\n",
    "request_images = 100\n",
    "client = ClipClient(url=\"https://knn.laion.ai/knn-service\", indice_name=\"laion5B-L-14\", num_images=request_images, aesthetic_weight=0.9, aesthetic_score=9)"
   ]
  },
  {
   "attachments": {},
   "cell_type": "markdown",
   "metadata": {},
   "source": [
    "## Query by prompt"
   ]
  },
  {
   "cell_type": "code",
   "execution_count": null,
   "metadata": {},
   "outputs": [],
   "source": [
    "results = client.query(text=\"beautiful islamic art, geometric, intricate, blue, shutterstock\")"
   ]
  },
  {
   "attachments": {},
   "cell_type": "markdown",
   "metadata": {},
   "source": [
    "## Query by directory"
   ]
  },
  {
   "cell_type": "code",
   "execution_count": null,
   "metadata": {},
   "outputs": [],
   "source": [
    "import os\n",
    "from pathlib import Path\n",
    "src_imgs = [str(p) for p in Path(\"data/core\").rglob(\"*\") if p.is_file()]\n",
    "results = [result for result in [client.query(image=image) for image in tqdm(src_imgs)]]\n",
    "results = [element for sublist in results for element in sublist] # flatten"
   ]
  },
  {
   "attachments": {},
   "cell_type": "markdown",
   "metadata": {},
   "source": [
    "## Display"
   ]
  },
  {
   "cell_type": "code",
   "execution_count": null,
   "metadata": {},
   "outputs": [],
   "source": [
    "sample = random.sample(results, 50)\n",
    "images = [download_image(res[\"url\"]) for res in tqdm(results, desc=\"Downloading Images\")]\n",
    "\n",
    "images = [image for image in tqdm(images, desc=\"Filtering Images\") if image]\n",
    "print(f\"Success rate = filtered / sample = {len(images)/len(results)}\")"
   ]
  },
  {
   "cell_type": "code",
   "execution_count": null,
   "metadata": {},
   "outputs": [],
   "source": [
    "sample = random.sample(images, 25)\n",
    "image_grid(sample, 5, 5, res=128)"
   ]
  }
 ],
 "metadata": {
  "kernelspec": {
   "display_name": "piay",
   "language": "python",
   "name": "python3"
  },
  "language_info": {
   "codemirror_mode": {
    "name": "ipython",
    "version": 3
   },
   "file_extension": ".py",
   "mimetype": "text/x-python",
   "name": "python",
   "nbconvert_exporter": "python",
   "pygments_lexer": "ipython3",
   "version": "3.8.16"
  },
  "orig_nbformat": 4
 },
 "nbformat": 4,
 "nbformat_minor": 2
}
